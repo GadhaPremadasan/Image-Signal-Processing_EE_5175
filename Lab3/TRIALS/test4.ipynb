{
 "cells": [
  {
   "cell_type": "code",
   "execution_count": null,
   "metadata": {},
   "outputs": [],
   "source": []
  },
  {
   "cell_type": "code",
   "execution_count": 1,
   "metadata": {},
   "outputs": [
    {
     "ename": "AttributeError",
     "evalue": "module 'cv2' has no attribute 'xfeatures2d'",
     "output_type": "error",
     "traceback": [
      "\u001b[0;31m---------------------------------------------------------------------------\u001b[0m",
      "\u001b[0;31mAttributeError\u001b[0m                            Traceback (most recent call last)",
      "Cell \u001b[0;32mIn[1], line 12\u001b[0m\n\u001b[1;32m      9\u001b[0m img2  \u001b[38;5;241m=\u001b[39m np\u001b[38;5;241m.\u001b[39marray(Image\u001b[38;5;241m.\u001b[39mopen(\u001b[38;5;124m'\u001b[39m\u001b[38;5;124m./img2.png\u001b[39m\u001b[38;5;124m'\u001b[39m))\n\u001b[1;32m     10\u001b[0m img3  \u001b[38;5;241m=\u001b[39m np\u001b[38;5;241m.\u001b[39marray(Image\u001b[38;5;241m.\u001b[39mopen(\u001b[38;5;124m'\u001b[39m\u001b[38;5;124m./img3.png\u001b[39m\u001b[38;5;124m'\u001b[39m))\n\u001b[0;32m---> 12\u001b[0m [corresp1, corresp2] \u001b[38;5;241m=\u001b[39m \u001b[43msift_corresp\u001b[49m\u001b[43m(\u001b[49m\u001b[43mimg1\u001b[49m\u001b[43m,\u001b[49m\u001b[43mimg2\u001b[49m\u001b[43m)\u001b[49m\n\u001b[1;32m     13\u001b[0m \u001b[38;5;66;03m# print(corresp1.shape)\u001b[39;00m\n\u001b[1;32m     14\u001b[0m all_points \u001b[38;5;241m=\u001b[39m corresp2\u001b[38;5;241m.\u001b[39mshape[\u001b[38;5;241m0\u001b[39m]\n",
      "File \u001b[0;32m~/Desktop/Courses/ISP_2024/Lab3/TRIALS/sift.py:18\u001b[0m, in \u001b[0;36msift\u001b[0;34m(img1, img2)\u001b[0m\n\u001b[1;32m      5\u001b[0m \u001b[38;5;28;01mdef\u001b[39;00m \u001b[38;5;21msift\u001b[39m(img1, img2):\n\u001b[1;32m      6\u001b[0m \u001b[38;5;250m    \u001b[39m\u001b[38;5;124;03m\"\"\"\u001b[39;00m\n\u001b[1;32m      7\u001b[0m \u001b[38;5;124;03m    Computes point correspondences between two images using sift\u001b[39;00m\n\u001b[1;32m      8\u001b[0m \n\u001b[0;32m   (...)\u001b[0m\n\u001b[1;32m     16\u001b[0m \u001b[38;5;124;03m                            keypoints in img2 are `points[1]`\u001b[39;00m\n\u001b[1;32m     17\u001b[0m \u001b[38;5;124;03m    \"\"\"\u001b[39;00m\n\u001b[0;32m---> 18\u001b[0m     sift \u001b[38;5;241m=\u001b[39m \u001b[43mcv2\u001b[49m\u001b[38;5;241;43m.\u001b[39;49m\u001b[43mxfeatures2d\u001b[49m\u001b[38;5;241m.\u001b[39mSIFT_create()\n\u001b[1;32m     20\u001b[0m     kp1, des1 \u001b[38;5;241m=\u001b[39m sift\u001b[38;5;241m.\u001b[39mdetectAndCompute(img1, \u001b[38;5;28;01mNone\u001b[39;00m)\n\u001b[1;32m     21\u001b[0m     kp2, des2 \u001b[38;5;241m=\u001b[39m sift\u001b[38;5;241m.\u001b[39mdetectAndCompute(img2, \u001b[38;5;28;01mNone\u001b[39;00m)\n",
      "\u001b[0;31mAttributeError\u001b[0m: module 'cv2' has no attribute 'xfeatures2d'"
     ]
    }
   ],
   "source": [
    "import cv2 as cv\n",
    "from sift import sift as sift_corresp\n",
    "import numpy as np\n",
    "import math as m \n",
    "from PIL import Image\n",
    "import random\n",
    "\n",
    "img1  = np.array(Image.open('./img1.png'))  \n",
    "img2  = np.array(Image.open('./img2.png'))\n",
    "img3  = np.array(Image.open('./img3.png'))\n",
    "\n",
    "[corresp1, corresp2] = sift_corresp(img1,img2)\n",
    "# print(corresp1.shape)\n",
    "all_points = corresp2.shape[0]\n",
    "random_index = random.randint(0 , all_points-1)\n",
    "\n",
    "# param: no. of points \n",
    "points = 4\n",
    "selected_points = []\n",
    "\n",
    "A = np.zeros((8, 9))\n",
    "for i in range(points):\n",
    "    random_index = random.randint(0 , all_points-1)\n",
    "    print(f\"point {i+1} : \" , random_index)\n",
    "    selected_points.append(random_index)\n",
    "    xi , yi = corresp1[random_index]\n",
    "    xi_ , yi_ = corresp2[random_index]\n",
    "    A[2*i] = [-xi , -yi , 1 , 0 , 0 , 0 , xi*xi_ , xi_*yi , xi_ ]\n",
    "    A[(2*i)+1] = [0 , 0 , 0 , -xi , -yi , -1 , xi*yi , yi*yi_ , yi_]\n",
    "\n",
    "[U, S, Vt] = np.linalg.svd(A)\n",
    "H = np.reshape(Vt[-1], (3,3))\n",
    "    \n",
    "# print(selected_points)\n",
    "remaining_points = [point for point in range(all_points) if point not in selected_points]\n",
    "# print(remaining_points)\n",
    "\n",
    "\n",
    "\n",
    "\n",
    "\n",
    "for i in range(len(remaining_points)):\n",
    "    homo_corresp1 = corresp1[remaining_points[i]]\n",
    "    homo_corresp1 = np.append(homo_corresp1, 1)\n",
    "    homo_corresp2 = np.matmul(H, homo_corresp1)\n",
    "\n",
    "    # Extract coordinates from homogeneous coordinates\n",
    "    homo_corresp1 = homo_corresp1[:2] / homo_corresp1[2]\n",
    "    homo_corresp2 = homo_corresp2[:2] / homo_corresp2[2]\n",
    "\n",
    "    # Finding sift corresp\n",
    "    sift_corresp1, sift_corresp2 = sift_corresp(img1, img2)\n",
    "\n",
    "    # Calculate Euclidean distance\n",
    "    distance = np.linalg.norm(homo_corresp1 - sift_corresp2[remaining_points[i]])\n",
    "    print(f\"Euclidean distance: {distance}\")\n",
    "\n",
    "    # You can store or use the distance as needed\n"
   ]
  }
 ],
 "metadata": {
  "kernelspec": {
   "display_name": "Python 3",
   "language": "python",
   "name": "python3"
  },
  "language_info": {
   "codemirror_mode": {
    "name": "ipython",
    "version": 3
   },
   "file_extension": ".py",
   "mimetype": "text/x-python",
   "name": "python",
   "nbconvert_exporter": "python",
   "pygments_lexer": "ipython3",
   "version": "3.8.10"
  }
 },
 "nbformat": 4,
 "nbformat_minor": 2
}
