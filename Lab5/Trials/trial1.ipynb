{
 "cells": [
  {
   "cell_type": "code",
   "execution_count": 4,
   "metadata": {},
   "outputs": [],
   "source": [
    "import numpy as np\n",
    "import math\n",
    "import cv2 as cv\n",
    "import matplotlib.pyplot as plt\n",
    "from PIL import Image\n"
   ]
  },
  {
   "cell_type": "code",
   "execution_count": 10,
   "metadata": {},
   "outputs": [
    {
     "ename": "IndexError",
     "evalue": "index 195 is out of bounds for axis 1 with size 195",
     "output_type": "error",
     "traceback": [
      "\u001b[0;31m---------------------------------------------------------------------------\u001b[0m",
      "\u001b[0;31mIndexError\u001b[0m                                Traceback (most recent call last)",
      "Cell \u001b[0;32mIn[10], line 39\u001b[0m\n\u001b[1;32m     37\u001b[0m             \u001b[38;5;28;01mfor\u001b[39;00m i \u001b[38;5;129;01min\u001b[39;00m \u001b[38;5;28mrange\u001b[39m(\u001b[38;5;241m-\u001b[39mk_mid , k_mid):\n\u001b[1;32m     38\u001b[0m              \u001b[38;5;28;01mfor\u001b[39;00m j \u001b[38;5;129;01min\u001b[39;00m \u001b[38;5;28mrange\u001b[39m(\u001b[38;5;241m-\u001b[39mk_mid , k_mid):\n\u001b[0;32m---> 39\u001b[0m                 op\u001b[38;5;241m+\u001b[39m\u001b[38;5;241m=\u001b[39m kernel[i,j]\u001b[38;5;241m*\u001b[39m\u001b[43moutput_image\u001b[49m\u001b[43m[\u001b[49m\u001b[43mx\u001b[49m\u001b[43m \u001b[49m\u001b[43m,\u001b[49m\u001b[43m \u001b[49m\u001b[43my\u001b[49m\u001b[43m]\u001b[49m\n\u001b[1;32m     40\u001b[0m temp_out[x\u001b[38;5;241m-\u001b[39mk_mid , y \u001b[38;5;241m-\u001b[39m k_mid] \u001b[38;5;241m=\u001b[39m op\n",
      "\u001b[0;31mIndexError\u001b[0m: index 195 is out of bounds for axis 1 with size 195"
     ]
    }
   ],
   "source": [
    "image = np.array(Image.open('Globe.png').convert(\"L\"))\n",
    "\n",
    "N,n = image.shape[:2]\n",
    "A = 2.0\n",
    "B = (N*N)/(2*np.log(200))\n",
    "sigma_matrix = np.zeros((N,N))\n",
    "temp_out = np.zeros((N,N))\n",
    "largest_k = 0\n",
    "for m in range(N):\n",
    "    for n in range(N):\n",
    "        exp_term = (((m - (N/2))**2) + ((n - (N/2))**2))/ B \n",
    "        sigma = A * np.exp(-exp_term)\n",
    "        print\n",
    "        k = math.ceil(6*sigma)+1\n",
    "        if k> largest_k:\n",
    "           largest_k= k\n",
    "        k_mid = k//2\n",
    "        largest_k_mid = largest_k // 2\n",
    "        kernel = np.zeros((k,k) , np.float32)\n",
    "        output_image = np.zeros((N, N), dtype=np.float32)\n",
    "        output_image = np.pad(image,(int(( largest_k - 1 )/2), int(( largest_k - 1 )/2)), 'constant') \n",
    "        \n",
    "        # if k == 1:\n",
    "        #     return np.ones((k,k))\n",
    "        for x in range(k):\n",
    "            for y in range(k):\n",
    "                normal = 1 / ( 2 * np.pi * sigma**2 )\n",
    "                exp_term = np.exp(-( x**2 + y**2 ) / (2 * sigma**2))\n",
    "                kernel [x,y] = normal*exp_term\n",
    "        kernel = kernel/np.sum(kernel)\n",
    "\n",
    "\n",
    "\n",
    "\n",
    "        for x in range(k_mid , N + k_mid):\n",
    "         for y in range(k_mid , N + k_mid):\n",
    "            op = 0\n",
    "            for i in range(-k_mid , k_mid):\n",
    "             for j in range(-k_mid , k_mid):\n",
    "                op+= kernel[i,j]*output_image[x , y]\n",
    "\n",
    "\n",
    "                \n",
    "temp_out[x-k_mid , y - k_mid] = op\n",
    "\n",
    "      "
   ]
  },
  {
   "cell_type": "code",
   "execution_count": null,
   "metadata": {},
   "outputs": [],
   "source": []
  },
  {
   "cell_type": "code",
   "execution_count": 9,
   "metadata": {},
   "outputs": [
    {
     "data": {
      "text/plain": [
       "True"
      ]
     },
     "execution_count": 9,
     "metadata": {},
     "output_type": "execute_result"
    }
   ],
   "source": []
  }
 ],
 "metadata": {
  "kernelspec": {
   "display_name": "Python 3",
   "language": "python",
   "name": "python3"
  },
  "language_info": {
   "codemirror_mode": {
    "name": "ipython",
    "version": 3
   },
   "file_extension": ".py",
   "mimetype": "text/x-python",
   "name": "python",
   "nbconvert_exporter": "python",
   "pygments_lexer": "ipython3",
   "version": "3.8.10"
  }
 },
 "nbformat": 4,
 "nbformat_minor": 2
}
