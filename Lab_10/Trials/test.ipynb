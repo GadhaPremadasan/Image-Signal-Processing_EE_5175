{
 "cells": [
  {
   "cell_type": "code",
   "execution_count": 22,
   "metadata": {},
   "outputs": [
    {
     "name": "stdout",
     "output_type": "stream",
     "text": [
      "196608\n"
     ]
    }
   ],
   "source": [
    "import cv2 as cv \n",
    "import numpy as np\n",
    "\n",
    "# Read the RGB image\n",
    "krishna_g = cv.imread(\"/home/gadha/Desktop/Courses/ISP_2024/lab_10/krishna_0_001.png\")\n",
    "krishna_f = cv.imread(\"/home/gadha/Desktop/Courses/ISP_2024/lab_10/krishna.png\")\n",
    "\n",
    "# Convert the image to floating point format and normalize intensity range to [0, 1]\n",
    "krishna_g = krishna_g.astype(float) / 255.0\n",
    "krishna_f = krishna_f.astype(float) / 255.0\n",
    "print(krishna_f.size)\n",
    "\n"
   ]
  },
  {
   "cell_type": "code",
   "execution_count": 17,
   "metadata": {},
   "outputs": [],
   "source": [
    "# params\n",
    "W_sim = 3\n",
    "W = 5\n",
    "\n",
    "win_half = W_sim // 2\n",
    "win_half\n",
    "\n",
    "sigma = 1.0"
   ]
  },
  {
   "cell_type": "code",
   "execution_count": 11,
   "metadata": {},
   "outputs": [
    {
     "data": {
      "text/plain": [
       "256"
      ]
     },
     "execution_count": 11,
     "metadata": {},
     "output_type": "execute_result"
    }
   ],
   "source": [
    "m , n = krishna_g.shape[:2]\n",
    "m "
   ]
  },
  {
   "cell_type": "code",
   "execution_count": 15,
   "metadata": {},
   "outputs": [
    {
     "data": {
      "text/plain": [
       "array([[[0.21960784, 0.16862745, 0.27058824]]])"
      ]
     },
     "execution_count": 15,
     "metadata": {},
     "output_type": "execute_result"
    }
   ],
   "source": [
    "patch = krishna_g[m - win_half : m + win_half + 1, n - win_half : n + win_half + 1, :]\n",
    "patch\n"
   ]
  },
  {
   "cell_type": "code",
   "execution_count": 35,
   "metadata": {},
   "outputs": [],
   "source": [
    "def vectorize_patch(patch):\n",
    "    print(patch.reshape(-1, 3))\n",
    "    return patch.reshape(-1, 3)\n",
    "\n"
   ]
  },
  {
   "cell_type": "code",
   "execution_count": 36,
   "metadata": {},
   "outputs": [],
   "source": [
    "def calculate_gaussian(V_p, V_q):\n",
    "    diff = np.linalg.norm(V_p - V_q)\n",
    "    print(diff)\n",
    "    return np.exp(-diff**2 / (2 * sigma**2))\n"
   ]
  },
  {
   "cell_type": "code",
   "execution_count": 46,
   "metadata": {},
   "outputs": [],
   "source": [
    "def create_similarity_window(g , f , W_sim , W):\n",
    "    m , n = g.shape[:2]\n",
    "    total_pixels = f.size //3\n",
    "    win_half = W_sim // 2\n",
    "    for channel in range(3):\n",
    "     for i in range(W, m - W):\n",
    "        for j in range(W, n - W):\n",
    "            N_p = g[i - win_half : i + win_half + 1, j - win_half : j + win_half + 1,channel]\n",
    "            print(N_p.shape)\n",
    "            V_p = vectorize_patch(N_p)\n",
    "            V_p = V_p.flatten()\n",
    "            print(V_p.shape)\n",
    "            W_p = np.zeros((2 * W_sim + 1, 2 * W_sim + 1))\n",
    "            print(W_p.shape)\n",
    "\n",
    "            for x in range(i - W, i + W + 1):\n",
    "                for y in range(j - W, j + W + 1):\n",
    "                    N_q = g[x - W_sim:x + W_sim + 1, y - W_sim:y + W_sim + 1]\n",
    "                    V_q = vectorize_patch(N_q)\n",
    "                    V_q = V_q.flatten()\n",
    "                    print(V_q)\n",
    "                    W_p[x - (i - W), y - (j - W)] = calculate_filter(V_p, V_q)\n",
    "\n",
    "            # Normalize w_p\n",
    "            W_p /= np.sum(W_p)\n",
    "            N_p_W = g[i - W:i + W + 1, j - W:j + W + 1]\n",
    "            V_p_W = vectorize_patch(N_p_W)\n",
    "\n",
    "            f_hat = np.zeros(3)\n",
    "            for channel in range(3):\n",
    "                f_hat[channel] = np.dot(V_p_W[:, channel], W_p.flatten())\n",
    "            MSE += np.sum((f[i, j] - f_hat)**2) / (total_pixels * 3)\n",
    "    PSNR = 10 * np.log10(1 / MSE)\n",
    "    return PSNR\n",
    "\n",
    "\n",
    "\n",
    "\n",
    "\n",
    "\n",
    "\n"
   ]
  },
  {
   "cell_type": "code",
   "execution_count": 47,
   "metadata": {},
   "outputs": [
    {
     "name": "stdout",
     "output_type": "stream",
     "text": [
      "(3, 3)\n",
      "(9,)\n",
      "(7, 7)\n",
      "[]\n"
     ]
    },
    {
     "ename": "ValueError",
     "evalue": "operands could not be broadcast together with shapes (9,) (0,) ",
     "output_type": "error",
     "traceback": [
      "\u001b[0;31m---------------------------------------------------------------------------\u001b[0m",
      "\u001b[0;31mValueError\u001b[0m                                Traceback (most recent call last)",
      "Cell \u001b[0;32mIn[47], line 1\u001b[0m\n\u001b[0;32m----> 1\u001b[0m res \u001b[38;5;241m=\u001b[39m \u001b[43mcreate_similarity_window\u001b[49m\u001b[43m(\u001b[49m\u001b[43mkrishna_g\u001b[49m\u001b[43m \u001b[49m\u001b[43m,\u001b[49m\u001b[43m \u001b[49m\u001b[43mkrishna_f\u001b[49m\u001b[43m \u001b[49m\u001b[43m,\u001b[49m\u001b[43m \u001b[49m\u001b[38;5;241;43m3\u001b[39;49m\u001b[43m \u001b[49m\u001b[43m,\u001b[49m\u001b[43m \u001b[49m\u001b[38;5;241;43m3\u001b[39;49m\u001b[43m)\u001b[49m\n\u001b[1;32m      3\u001b[0m \u001b[38;5;28mprint\u001b[39m( res)\n",
      "Cell \u001b[0;32mIn[46], line 22\u001b[0m, in \u001b[0;36mcreate_similarity_window\u001b[0;34m(g, f, W_sim, W)\u001b[0m\n\u001b[1;32m     20\u001b[0m         V_q \u001b[38;5;241m=\u001b[39m V_q\u001b[38;5;241m.\u001b[39mflatten()\n\u001b[1;32m     21\u001b[0m         \u001b[38;5;28mprint\u001b[39m(V_q)\n\u001b[0;32m---> 22\u001b[0m         W_p[x \u001b[38;5;241m-\u001b[39m (i \u001b[38;5;241m-\u001b[39m W), y \u001b[38;5;241m-\u001b[39m (j \u001b[38;5;241m-\u001b[39m W)] \u001b[38;5;241m=\u001b[39m \u001b[43mcalculate_filter\u001b[49m\u001b[43m(\u001b[49m\u001b[43mV_p\u001b[49m\u001b[43m,\u001b[49m\u001b[43m \u001b[49m\u001b[43mV_q\u001b[49m\u001b[43m)\u001b[49m\n\u001b[1;32m     24\u001b[0m \u001b[38;5;66;03m# Normalize w_p\u001b[39;00m\n\u001b[1;32m     25\u001b[0m W_p \u001b[38;5;241m/\u001b[39m\u001b[38;5;241m=\u001b[39m np\u001b[38;5;241m.\u001b[39msum(W_p)\n",
      "Cell \u001b[0;32mIn[41], line 14\u001b[0m, in \u001b[0;36mcalculate_filter\u001b[0;34m(V_p, V_q)\u001b[0m\n\u001b[1;32m     13\u001b[0m \u001b[38;5;28;01mdef\u001b[39;00m \u001b[38;5;21mcalculate_filter\u001b[39m(V_p, V_q):\n\u001b[0;32m---> 14\u001b[0m     diff \u001b[38;5;241m=\u001b[39m np\u001b[38;5;241m.\u001b[39mlinalg\u001b[38;5;241m.\u001b[39mnorm(\u001b[43mV_p\u001b[49m\u001b[43m \u001b[49m\u001b[38;5;241;43m-\u001b[39;49m\u001b[43m \u001b[49m\u001b[43mV_q\u001b[49m)\n\u001b[1;32m     15\u001b[0m     \u001b[38;5;28;01mreturn\u001b[39;00m np\u001b[38;5;241m.\u001b[39mexp(\u001b[38;5;241m-\u001b[39mdiff\u001b[38;5;241m*\u001b[39m\u001b[38;5;241m*\u001b[39m\u001b[38;5;241m2\u001b[39m \u001b[38;5;241m/\u001b[39m (\u001b[38;5;241m2\u001b[39m \u001b[38;5;241m*\u001b[39m sigma\u001b[38;5;241m*\u001b[39m\u001b[38;5;241m*\u001b[39m\u001b[38;5;241m2\u001b[39m))\n",
      "\u001b[0;31mValueError\u001b[0m: operands could not be broadcast together with shapes (9,) (0,) "
     ]
    }
   ],
   "source": [
    "res = create_similarity_window(krishna_g , krishna_f , 3 , 3)\n",
    "\n",
    "print( res)"
   ]
  },
  {
   "cell_type": "code",
   "execution_count": 41,
   "metadata": {},
   "outputs": [
    {
     "ename": "ValueError",
     "evalue": "operands could not be broadcast together with shapes (9,3) (0,3) ",
     "output_type": "error",
     "traceback": [
      "\u001b[0;31m---------------------------------------------------------------------------\u001b[0m",
      "\u001b[0;31mValueError\u001b[0m                                Traceback (most recent call last)",
      "Cell \u001b[0;32mIn[41], line 52\u001b[0m\n\u001b[1;32m     50\u001b[0m krishna_g \u001b[38;5;241m=\u001b[39m np\u001b[38;5;241m.\u001b[39mrandom\u001b[38;5;241m.\u001b[39mrand(\u001b[38;5;241m100\u001b[39m, \u001b[38;5;241m100\u001b[39m, \u001b[38;5;241m3\u001b[39m)  \u001b[38;5;66;03m# Example noisy image\u001b[39;00m\n\u001b[1;32m     51\u001b[0m krishna_f \u001b[38;5;241m=\u001b[39m np\u001b[38;5;241m.\u001b[39mrandom\u001b[38;5;241m.\u001b[39mrand(\u001b[38;5;241m100\u001b[39m, \u001b[38;5;241m100\u001b[39m, \u001b[38;5;241m3\u001b[39m)  \u001b[38;5;66;03m# Example latent image\u001b[39;00m\n\u001b[0;32m---> 52\u001b[0m PSNR \u001b[38;5;241m=\u001b[39m \u001b[43mcreate_similarity_window\u001b[49m\u001b[43m(\u001b[49m\u001b[43mkrishna_g\u001b[49m\u001b[43m,\u001b[49m\u001b[43m \u001b[49m\u001b[43mkrishna_f\u001b[49m\u001b[43m)\u001b[49m\n\u001b[1;32m     53\u001b[0m \u001b[38;5;28mprint\u001b[39m(\u001b[38;5;124m\"\u001b[39m\u001b[38;5;124mPSNR:\u001b[39m\u001b[38;5;124m\"\u001b[39m, PSNR)\n",
      "Cell \u001b[0;32mIn[41], line 34\u001b[0m, in \u001b[0;36mcreate_similarity_window\u001b[0;34m(g, f)\u001b[0m\n\u001b[1;32m     32\u001b[0m         N_q \u001b[38;5;241m=\u001b[39m g[x \u001b[38;5;241m-\u001b[39m W_sim: x \u001b[38;5;241m+\u001b[39m W_sim \u001b[38;5;241m+\u001b[39m \u001b[38;5;241m1\u001b[39m, y \u001b[38;5;241m-\u001b[39m W_sim: y \u001b[38;5;241m+\u001b[39m W_sim \u001b[38;5;241m+\u001b[39m \u001b[38;5;241m1\u001b[39m]\n\u001b[1;32m     33\u001b[0m         V_q \u001b[38;5;241m=\u001b[39m vectorize_patch(N_q)\n\u001b[0;32m---> 34\u001b[0m         W_p[x \u001b[38;5;241m-\u001b[39m (i \u001b[38;5;241m-\u001b[39m W), y \u001b[38;5;241m-\u001b[39m (j \u001b[38;5;241m-\u001b[39m W)] \u001b[38;5;241m=\u001b[39m \u001b[43mcalculate_filter\u001b[49m\u001b[43m(\u001b[49m\u001b[43mV_p\u001b[49m\u001b[43m,\u001b[49m\u001b[43m \u001b[49m\u001b[43mV_q\u001b[49m\u001b[43m)\u001b[49m\n\u001b[1;32m     36\u001b[0m \u001b[38;5;66;03m# Normalize w_p\u001b[39;00m\n\u001b[1;32m     37\u001b[0m W_p \u001b[38;5;241m/\u001b[39m\u001b[38;5;241m=\u001b[39m np\u001b[38;5;241m.\u001b[39msum(W_p)\n",
      "Cell \u001b[0;32mIn[41], line 14\u001b[0m, in \u001b[0;36mcalculate_filter\u001b[0;34m(V_p, V_q)\u001b[0m\n\u001b[1;32m     13\u001b[0m \u001b[38;5;28;01mdef\u001b[39;00m \u001b[38;5;21mcalculate_filter\u001b[39m(V_p, V_q):\n\u001b[0;32m---> 14\u001b[0m     diff \u001b[38;5;241m=\u001b[39m np\u001b[38;5;241m.\u001b[39mlinalg\u001b[38;5;241m.\u001b[39mnorm(\u001b[43mV_p\u001b[49m\u001b[43m \u001b[49m\u001b[38;5;241;43m-\u001b[39;49m\u001b[43m \u001b[49m\u001b[43mV_q\u001b[49m)\n\u001b[1;32m     15\u001b[0m     \u001b[38;5;28;01mreturn\u001b[39;00m np\u001b[38;5;241m.\u001b[39mexp(\u001b[38;5;241m-\u001b[39mdiff\u001b[38;5;241m*\u001b[39m\u001b[38;5;241m*\u001b[39m\u001b[38;5;241m2\u001b[39m \u001b[38;5;241m/\u001b[39m (\u001b[38;5;241m2\u001b[39m \u001b[38;5;241m*\u001b[39m sigma\u001b[38;5;241m*\u001b[39m\u001b[38;5;241m*\u001b[39m\u001b[38;5;241m2\u001b[39m))\n",
      "\u001b[0;31mValueError\u001b[0m: operands could not be broadcast together with shapes (9,3) (0,3) "
     ]
    }
   ],
   "source": []
  },
  {
   "cell_type": "code",
   "execution_count": null,
   "metadata": {},
   "outputs": [],
   "source": []
  }
 ],
 "metadata": {
  "kernelspec": {
   "display_name": "Python 3",
   "language": "python",
   "name": "python3"
  },
  "language_info": {
   "codemirror_mode": {
    "name": "ipython",
    "version": 3
   },
   "file_extension": ".py",
   "mimetype": "text/x-python",
   "name": "python",
   "nbconvert_exporter": "python",
   "pygments_lexer": "ipython3",
   "version": "3.8.10"
  }
 },
 "nbformat": 4,
 "nbformat_minor": 2
}
